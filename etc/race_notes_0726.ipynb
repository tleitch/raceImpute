{
 "cells": [
  {
   "cell_type": "markdown",
   "id": "bb3b4626-34a4-4ac9-b18f-ff5184d4f5a3",
   "metadata": {
    "tags": []
   },
   "source": [
    "# Pipeline, return_all_scores"
   ]
  },
  {
   "cell_type": "markdown",
   "id": "ca5800a0-07db-4ba3-bdcd-6db67f768999",
   "metadata": {},
   "source": [
    "* After quite some detour and reading `transformers` source code, here's the simple solution:"
   ]
  },
  {
   "cell_type": "code",
   "execution_count": 2,
   "id": "7e45f900-24c0-404c-b513-cde4faec0e5b",
   "metadata": {},
   "outputs": [],
   "source": [
    "from racebert import RaceBERT"
   ]
  },
  {
   "cell_type": "markdown",
   "id": "1f57c862-258c-4073-9d68-03b2b6570bff",
   "metadata": {},
   "source": [
    "* Here's a modification of the RaceBERT.predict_race function, note that this only applies to `transformers 4.19`\n",
    "* In `4.20`, the modified line should be `results = self.race_pipeline(names, top_k=5)` (not tested)\n",
    "* Relevant code: \n",
    "    - [TextClassificationPipeline.postprocess](https://github.com/huggingface/transformers/blob/d0acc9537829e7d067edbb791473bbceb2ecf056/src/transformers/pipelines/text_classification.py#L165)\n",
    "    - [TextClassificationPipeline.\\_\\_call__](https://github.com/huggingface/transformers/blob/d0acc9537829e7d067edbb791473bbceb2ecf056/src/transformers/pipelines/text_classification.py#L104)\n",
    "    - [Pipeline.\\_\\_call__](https://github.com/huggingface/transformers/blob/4975002df50c472cbb6f8ac3580e475f570606ab/src/transformers/pipelines/base.py#L972)"
   ]
  },
  {
   "cell_type": "code",
   "execution_count": 3,
   "id": "ffb2d221-8bff-4d4c-8b9b-fca3526d00c6",
   "metadata": {},
   "outputs": [],
   "source": [
    "# for type in predict_race_all below\n",
    "from __future__ import annotations\n",
    "from typing import List, Dict\n",
    "\n",
    "def predict_race_all(self, names: str | List[str]) -> List[Dict]:\n",
    "    if type(names) == str:\n",
    "            names = self.normalize_name(names, strategy=\"first LAST\")\n",
    "    else:\n",
    "        names = [self.normalize_name(x, strategy=\"first LAST\") for x in names]\n",
    "    \n",
    "    # modified here\n",
    "    results = self.race_pipeline(names, return_all_scores=True)\n",
    "    # note: the above works for tranformers 4.19, in 4.20 return_all_scores has been deprecated, should top_k as below (not tested)\n",
    "    # results = self.race_pipeline(names, top_k=5)\n",
    "    \n",
    "    return results"
   ]
  },
  {
   "cell_type": "code",
   "execution_count": 4,
   "id": "d9e445d9-40bd-480b-8a12-a2cb016b0ca8",
   "metadata": {},
   "outputs": [],
   "source": [
    "RaceBERT.predict_race_all = predict_race_all"
   ]
  },
  {
   "cell_type": "code",
   "execution_count": 5,
   "id": "f8187948-0770-44ac-9dcc-ddb2315bb9f3",
   "metadata": {},
   "outputs": [],
   "source": [
    "raceBert = RaceBERT()"
   ]
  },
  {
   "cell_type": "code",
   "execution_count": 6,
   "id": "7c7b04d2-42c7-4ce5-acc8-1002f3f1ab70",
   "metadata": {},
   "outputs": [
    {
     "data": {
      "text/plain": [
       "[[{'label': 'nh_white', 'score': 0.057758793234825134},\n",
       "  {'label': 'hispanic', 'score': 0.0033216052688658237},\n",
       "  {'label': 'nh_black', 'score': 0.002415939699858427},\n",
       "  {'label': 'api', 'score': 0.9329151511192322},\n",
       "  {'label': 'aian', 'score': 0.0035884305834770203}]]"
      ]
     },
     "execution_count": 6,
     "metadata": {},
     "output_type": "execute_result"
    }
   ],
   "source": [
    "raceBert.predict_race_all(\"Daniel Xia\")"
   ]
  },
  {
   "cell_type": "markdown",
   "id": "aecaaf7f-b73f-4476-81fe-a2ea1a47b005",
   "metadata": {},
   "source": [
    "* The same edit would also apply to `predict_ethnicity`."
   ]
  },
  {
   "cell_type": "markdown",
   "id": "919bbfc4-e34d-44b9-b19c-82211970b4b2",
   "metadata": {},
   "source": [
    "# Remove defined race categories"
   ]
  },
  {
   "cell_type": "markdown",
   "id": "0fb4db38-6790-444f-b996-aeeed458c348",
   "metadata": {},
   "source": [
    "* Yes, I would think so. \n",
    "* See the updated [tleitch/raceImpute/preprocess_data.py](https://github.com/tleitch/raceImpute/blob/main/models/preprocess_data.py) (small modifications from [raceBERT/models/process_raw_data.py](https://github.com/parasurama/raceBERT/blob/55f7eff322f5cdd8714bc1ff25e882ae6a00d9b9/models/process_raw_data.py))\n",
    "    - `cat_race_map` are now a function argument, so long as the race names in `cat_race_map` and `include_race` are the same we should be good\n",
    "    - provided that all race value in the data have a key-value pair in `cat_race_map`, even those we don't want to include"
   ]
  }
 ],
 "metadata": {
  "kernelspec": {
   "display_name": "tf-gpu",
   "language": "python",
   "name": "tf-gpu"
  },
  "language_info": {
   "codemirror_mode": {
    "name": "ipython",
    "version": 3
   },
   "file_extension": ".py",
   "mimetype": "text/x-python",
   "name": "python",
   "nbconvert_exporter": "python",
   "pygments_lexer": "ipython3",
   "version": "3.8.13"
  }
 },
 "nbformat": 4,
 "nbformat_minor": 5
}
